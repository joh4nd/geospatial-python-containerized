{
 "cells": [
  {
   "cell_type": "markdown",
   "id": "d739aa3b-5225-4fc4-8bc1-ae6ad376a0e6",
   "metadata": {},
   "source": [
    "# 5. Access satellite imagery using Python"
   ]
  },
  {
   "cell_type": "code",
   "execution_count": null,
   "id": "43e596fb-7cf3-4c49-9936-a2a9b75b53ee",
   "metadata": {},
   "outputs": [],
   "source": []
  }
 ],
 "metadata": {
  "kernelspec": {
   "display_name": "Python 3 (ipykernel)",
   "language": "python",
   "name": "python3"
  },
  "language_info": {
   "codemirror_mode": {
    "name": "ipython",
    "version": 3
   },
   "file_extension": ".py",
   "mimetype": "text/x-python",
   "name": "python",
   "nbconvert_exporter": "python",
   "pygments_lexer": "ipython3",
   "version": "3.10.11"
  }
 },
 "nbformat": 4,
 "nbformat_minor": 5
}
